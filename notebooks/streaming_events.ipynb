{
  "metadata": {
    "language_info": {
      "name": "python"
    },
    "sessionKeepAliveTimeout": 30,
    "kernelspec": {
      "name": "synapse_pyspark",
      "display_name": "Synapse PySpark"
    }
  },
  "nbformat": 4,
  "nbformat_minor": 2,
  "cells": [
    {
      "cell_type": "code",
      "execution_count": 1,
      "outputs": [
        {
          "output_type": "display_data",
          "data": {
            "application/vnd.livy.statement-meta+json": {
              "spark_pool": null,
              "session_id": null,
              "statement_id": null,
              "state": "session_starting",
              "livy_statement_state": null,
              "queued_time": "2020-10-27T15:48:04.0787942Z",
              "execution_start_time": null,
              "execution_finish_time": null
            },
            "text/plain": "StatementMeta(, , , SessionStarting, )"
          },
          "metadata": {}
        }
      ],
      "metadata": {},
      "source": [
        "# Load a streaming Spark DataFrame from a Cosmos DB container\n",
        "# To select a preferred list of regions in a multi-region Cosmos DB account, add .option(\"spark.cosmos.preferredRegions\", \"<Region1>,<Region2>\")\n",
        "\n",
        "dfStream = spark.readStream\\\n",
        "    .format(\"cosmos.oltp\")\\\n",
        "    .option(\"spark.synapse.linkedService\", \"cosmosdb_dev_db\")\\\n",
        "    .option(\"spark.cosmos.container\", \"events\")\\\n",
        "    .option(\"spark.cosmos.changeFeed.readEnabled\", \"true\")\\\n",
        "    .option(\"spark.cosmos.changeFeed.startFromTheBeginning\", \"true\")\\\n",
        "    .option(\"spark.cosmos.changeFeed.checkpointLocation\", \"/localReadCheckpointFolder\")\\\n",
        "    .option(\"spark.cosmos.changeFeed.queryName\", \"streamQuery\")\\\n",
        "    .load()"
      ]
    }
  ]
}