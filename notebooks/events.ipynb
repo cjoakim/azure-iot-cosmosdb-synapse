{
  "metadata": {
    "language_info": {
      "name": "python"
    },
    "sessionKeepAliveTimeout": 30,
    "kernelspec": {
      "name": "synapse_pyspark",
      "display_name": "Synapse PySpark"
    }
  },
  "nbformat": 4,
  "nbformat_minor": 2,
  "cells": [
    {
      "cell_type": "code",
      "execution_count": 1,
      "outputs": [
        {
          "output_type": "display_data",
          "data": {
            "application/vnd.livy.statement-meta+json": {
              "spark_pool": "cjspark3s",
              "session_id": 4,
              "statement_id": 3,
              "state": "finished",
              "livy_statement_state": "available",
              "queued_time": "2020-11-01T21:07:02.1034625Z",
              "execution_start_time": "2020-11-01T21:09:46.9212256Z",
              "execution_finish_time": "2020-11-01T21:10:09.2698954Z"
            },
            "text/plain": "StatementMeta(cjspark3s, 4, 3, Finished, Available)"
          },
          "metadata": {}
        },
        {
          "execution_count": 1,
          "output_type": "execute_result",
          "data": {
            "text/plain": "root\n |-- _rid: string (nullable = true)\n |-- _ts: long (nullable = true)\n |-- seq: long (nullable = true)\n |-- epoch: double (nullable = true)\n |-- device_type: string (nullable = true)\n |-- device_os: string (nullable = true)\n |-- device_version: string (nullable = true)\n |-- device_pid: long (nullable = true)\n |-- line_speed: long (nullable = true)\n |-- temperature: long (nullable = true)\n |-- humidity: long (nullable = true)\n |-- EventProcessedUtcTime: string (nullable = true)\n |-- PartitionId: long (nullable = true)\n |-- EventEnqueuedUtcTime: string (nullable = true)\n |-- IoTHub: struct (nullable = true)\n |    |-- MessageId: string (nullable = true)\n |    |-- CorrelationId: string (nullable = true)\n |    |-- ConnectionDeviceId: string (nullable = true)\n |    |-- ConnectionDeviceGenerationId: string (nullable = true)\n |    |-- EnqueuedTime: string (nullable = true)\n |    |-- StreamId: integer (nullable = true)\n |-- pk: string (nullable = true)\n |-- id: string (nullable = true)\n |-- _etag: string (nullable = true)"
          },
          "metadata": {}
        }
      ],
      "metadata": {},
      "source": [
        "df = spark.read\\\n",
        "    .format(\"cosmos.olap\")\\\n",
        "    .option(\"spark.synapse.linkedService\", \"cosmosdb_dev_db\")\\\n",
        "    .option(\"spark.cosmos.container\", \"events\")\\\n",
        "    .load()\n",
        "\n",
        "display(df.printSchema())\n",
        ""
      ]
    },
    {
      "cell_type": "code",
      "execution_count": 2,
      "outputs": [
        {
          "output_type": "display_data",
          "data": {
            "application/vnd.livy.statement-meta+json": {
              "spark_pool": "cjspark3s",
              "session_id": 4,
              "statement_id": 4,
              "state": "finished",
              "livy_statement_state": "available",
              "queued_time": "2020-11-01T21:07:02.1532304Z",
              "execution_start_time": "2020-11-01T21:10:09.2947896Z",
              "execution_finish_time": "2020-11-01T21:10:15.4042442Z"
            },
            "text/plain": "StatementMeta(cjspark3s, 4, 4, Finished, Available)"
          },
          "metadata": {}
        },
        {
          "output_type": "display_data",
          "data": {
            "application/vnd.synapse.widget-view+json": {
              "widget_id": "8ef815d3-590e-4482-9c0c-ed116ee6344d",
              "widget_type": "Synapse.DataFrame"
            },
            "text/plain": "SynapseWidget(Synapse.DataFrame, 8ef815d3-590e-4482-9c0c-ed116ee6344d)"
          },
          "metadata": {}
        },
        {
          "execution_count": 2,
          "output_type": "execute_result",
          "data": {},
          "metadata": {}
        }
      ],
      "metadata": {
        "jupyter": {
          "source_hidden": false,
          "outputs_hidden": false
        },
        "nteract": {
          "transient": {
            "deleting": false
          }
        },
        "collapsed": true
      },
      "source": [
        "display(df.limit(10))"
      ]
    },
    {
      "cell_type": "code",
      "execution_count": 11,
      "outputs": [
        {
          "output_type": "display_data",
          "data": {
            "application/vnd.livy.statement-meta+json": {
              "spark_pool": "cjspark3s",
              "session_id": 4,
              "statement_id": 13,
              "state": "finished",
              "livy_statement_state": "available",
              "queued_time": "2020-11-01T21:21:21.0590044Z",
              "execution_start_time": "2020-11-01T21:21:21.0868815Z",
              "execution_finish_time": "2020-11-01T21:21:23.1192943Z"
            },
            "text/plain": "StatementMeta(cjspark3s, 4, 13, Finished, Available)"
          },
          "metadata": {}
        },
        {
          "output_type": "display_data",
          "data": {
            "application/vnd.synapse.widget-view+json": {
              "widget_id": "95eff9e8-65cb-4e51-8a17-841196d834f3",
              "widget_type": "Synapse.DataFrame"
            },
            "text/plain": "SynapseWidget(Synapse.DataFrame, 95eff9e8-65cb-4e51-8a17-841196d834f3)"
          },
          "metadata": {}
        },
        {
          "execution_count": 11,
          "output_type": "execute_result",
          "data": {},
          "metadata": {}
        }
      ],
      "metadata": {
        "jupyter": {
          "source_hidden": false,
          "outputs_hidden": false
        },
        "nteract": {
          "transient": {
            "deleting": false
          }
        },
        "collapsed": true
      },
      "source": [
        "from pyspark.sql import functions as f\n",
        "recent_df = df.select(\"pk\",\"line_speed\",\"temperature\",\"humidity\", \"epoch\").filter(\"epoch >= 1603986247\").sort(\"epoch\", ascending=False) \n",
        "display(recent_df.limit(10))"
      ]
    }
  ]
}